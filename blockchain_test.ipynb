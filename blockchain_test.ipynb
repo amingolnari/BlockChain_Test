{
 "cells": [
  {
   "cell_type": "code",
   "execution_count": 1,
   "metadata": {
    "collapsed": false
   },
   "outputs": [],
   "source": [
    "from web3 import Web3\n",
    "import datetime\n",
    "import matplotlib.pyplot as plt\n",
    "import matplotlib.dates as dates"
   ]
  },
  {
   "cell_type": "code",
   "execution_count": 2,
   "metadata": {},
   "outputs": [],
   "source": [
    "def web_read(url):\n",
    "\treturn Web3(Web3.WebsocketProvider(url))\n",
    "\n",
    "def check_connected(web3):\n",
    "\tif web3.isConnected(): print('Web3 is connected')\n",
    "\telse: print('Web3 is not connected')"
   ]
  },
  {
   "cell_type": "code",
   "execution_count": 3,
   "metadata": {},
   "outputs": [
    {
     "name": "stdout",
     "output_type": "stream",
     "text": [
      "Web3 is connected\n"
     ]
    },
    {
     "name": "stdout",
     "output_type": "stream",
     "text": [
      "Number of blocks: 7306083\n"
     ]
    }
   ],
   "source": [
    "web3 = web_read('wss://websockets.bloxberg.org')\n",
    "check_connected(web3)\n",
    "\n",
    "block_number = web3.eth.blockNumber\n",
    "print('Number of blocks: {}'.format(block_number))"
   ]
  },
  {
   "cell_type": "code",
   "execution_count": 4,
   "metadata": {},
   "outputs": [
    {
     "name": "stdout",
     "output_type": "stream",
     "text": [
      "Date 1970-01 counted\n"
     ]
    }
   ],
   "source": [
    "block = web3.eth.getBlock(0)\n",
    "timestamp = block.timestamp\n",
    "readable = datetime.datetime.fromtimestamp(timestamp).isoformat()\n",
    "date1 = readable[0:7]\n",
    "date2 = date1\n",
    "TransactionsDate = []\n",
    "TransactionsNum = []\n",
    "number_of_transactions = 0\n",
    "\n",
    "for idx in range(1, block_number):\n",
    "\tblock = web3.eth.getBlock(idx)\n",
    "\ttimestamp = block.timestamp\n",
    "\treadable = datetime.datetime.fromtimestamp(timestamp).isoformat()\n",
    "\tdate1 = readable[0:7]\n",
    "\tif date1 != date2:\n",
    "\t\tprint('Date {} counted'.format(date2))\n",
    "\t\tTransactionsDate.append(date2)\n",
    "\t\tTransactionsNum.append(number_of_transactions)\n",
    "\t\tdate2 = date1\n",
    "\t\tnumber_of_transactions = 0\n",
    "\tnumber_of_transactions = number_of_transactions +1\n",
    "\n",
    "print('Date {} counted'.format(date2))\n",
    "TransactionsDate.append(date2)\n",
    "TransactionsNum.append(number_of_transactions)"
   ]
  },
  {
   "cell_type": "code",
   "execution_count": null,
   "metadata": {},
   "outputs": [],
   "source": [
    "Dates = dates.date2num(TransactionsDate)\n",
    "\n",
    "with plt.style.context('seaborn'):\n",
    "\tplt.plot_date(Dates, TransactionsNum, 'r-o')\n",
    "\tplt.xlabel('Transaction per month')\n",
    "\tplt.ylabel('Number of transaction')\n",
    "\tplt.show()"
   ]
  }
 ],
 "metadata": {
  "kernelspec": {
   "display_name": "Python 2",
   "language": "python",
   "name": "python2"
  },
  "language_info": {
   "codemirror_mode": {
    "name": "ipython",
    "version": 2
   },
   "file_extension": ".py",
   "mimetype": "text/x-python",
   "name": "python",
   "nbconvert_exporter": "python",
   "pygments_lexer": "ipython2",
   "version": "2.7.6"
  }
 },
 "nbformat": 4,
 "nbformat_minor": 0
}
